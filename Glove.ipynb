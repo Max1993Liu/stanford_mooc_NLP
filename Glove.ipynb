{
 "cells": [
  {
   "cell_type": "code",
   "execution_count": 1,
   "metadata": {
    "collapsed": true
   },
   "outputs": [],
   "source": [
    "import nltk\n",
    "import numpy as np\n",
    "from pathlib import Path\n",
    "import glob\n",
    "import tensorflow as tf\n",
    "from collections import Counter"
   ]
  },
  {
   "cell_type": "code",
   "execution_count": 63,
   "metadata": {
    "collapsed": true
   },
   "outputs": [],
   "source": [
    "data = Path('./aclImdb/')\n",
    "vocab_path = data / 'imdb.vocab'\n",
    "n_words = 2000 # only pick the top n words for memory limits\n",
    "\n",
    "vocab = {}\n",
    "\n",
    "# mapping word to index\n",
    "with open(vocab_path, 'r') as f:\n",
    "    for idx, word in enumerate(f):\n",
    "        if idx == n_words:\n",
    "            break\n",
    "    \n",
    "        vocab[word.rstrip()] = idx\n",
    "        \n",
    "    \n",
    "reverse_vocab = {v:k for (k, v) in vocab.items()}"
   ]
  },
  {
   "cell_type": "code",
   "execution_count": 3,
   "metadata": {
    "collapsed": true
   },
   "outputs": [],
   "source": [
    "# read actual reviews\n",
    "def read_file(file_path):\n",
    "    \"\"\" read a single file, and return a single \n",
    "    list of its encoded version\"\"\"\n",
    "    with open(file_path, 'r') as f:\n",
    "        content = f.read()\n",
    "        \n",
    "    content = content.split() # simply spliting on space and newlines\n",
    "    encoded_content = []\n",
    "    for word in content:\n",
    "        word = word.strip().lower()\n",
    "        if vocab.get(word, -1) >= 0:\n",
    "            encoded_content.append(vocab.get(word))\n",
    "    return encoded_content\n",
    "\n",
    "\n",
    "\n",
    "all_paths = glob.glob('./aclImdb/train/pos/*.txt') + glob.glob('./aclImdb/train/neg/*.txt')\n",
    "# don't read in all the text at once, hits the memory too hard\n",
    "# corpus = [read_file(f) for f in all_paths]"
   ]
  },
  {
   "cell_type": "code",
   "execution_count": 4,
   "metadata": {
    "collapsed": true
   },
   "outputs": [],
   "source": [
    "def get_neighbour_pairs(content):\n",
    "    \"\"\" return the neighbour words in the format of (source word list, neighbour word list)\"\"\"\n",
    "    if len(content) < 2:\n",
    "        return [], []\n",
    "    start_list, neighbour_list = [], []\n",
    "    for i in range(1, len(content)-1):\n",
    "        start_list.extend([content[i]] * 2)\n",
    "        neighbour_list.append(content[i-1])\n",
    "        neighbour_list.append(content[i+1])\n",
    "    \n",
    "    # add in corner cases\n",
    "    start_list.append(content[0])\n",
    "    neighbour_list.append(content[1])\n",
    "    return start_list, neighbour_list"
   ]
  },
  {
   "cell_type": "code",
   "execution_count": 5,
   "metadata": {
    "collapsed": true
   },
   "outputs": [],
   "source": [
    "n_vocab = len(vocab)\n",
    "cooccurence_matrix = np.zeros([n_vocab, n_vocab], dtype=np.int32)\n",
    "\n",
    "for file_path in all_paths:\n",
    "    content = read_file(file_path)\n",
    "    s, n = get_neighbour_pairs(content)\n",
    "    cooccurence_matrix[s, n] += 1"
   ]
  },
  {
   "cell_type": "code",
   "execution_count": 6,
   "metadata": {
    "collapsed": true
   },
   "outputs": [],
   "source": [
    "# calculate the probability by Xij / sum(Xi)\n",
    "cooccurence_matrix = cooccurence_matrix / np.sum(cooccurence_matrix + 1e-10, axis=1)\n",
    "cooccurence_matrix = cooccurence_matrix.astype(np.float32)"
   ]
  },
  {
   "cell_type": "code",
   "execution_count": 7,
   "metadata": {},
   "outputs": [],
   "source": [
    "co_matrix = {}\n",
    "\n",
    "for i in range(n_vocab):\n",
    "    for j in range(n_vocab):\n",
    "        co_matrix[(i, j)] = cooccurence_matrix[i, j]\n",
    "    \n",
    "del cooccurence_matrix\n",
    "del vocab"
   ]
  },
  {
   "cell_type": "code",
   "execution_count": null,
   "metadata": {
    "collapsed": true
   },
   "outputs": [],
   "source": []
  },
  {
   "cell_type": "code",
   "execution_count": 21,
   "metadata": {
    "collapsed": true
   },
   "outputs": [],
   "source": [
    "batch_size = 512\n",
    "_scaling_factor = 3/4\n",
    "cooccurence_cap = 100\n",
    "learning_rate = 0.05"
   ]
  },
  {
   "cell_type": "code",
   "execution_count": 50,
   "metadata": {},
   "outputs": [],
   "source": [
    "tf.reset_default_graph()\n",
    "\n",
    "count_max = tf.constant([cooccurence_cap], dtype=tf.float32)\n",
    "scaling_factor = tf.constant([_scaling_factor], dtype=tf.float32)\n",
    "\n",
    "focal_input = tf.placeholder(tf.int32, [batch_size])\n",
    "context_input = tf.placeholder(tf.int32, [batch_size])\n",
    "co_count = tf.placeholder(tf.float32, [batch_size])\n",
    "\n",
    "embedding_u = tf.get_variable('embedding_u', [n_vocab, 100], \n",
    "                              initializer=tf.random_uniform_initializer(-1., 1.))\n",
    "embedding_v = tf.get_variable('embedding_v', [n_vocab, 100], \n",
    "                              initializer=tf.random_uniform_initializer(-1., 1.))\n",
    "\n",
    "\n",
    "# focal_bias = tf.get_variable('focal_bias', [100], \n",
    "#                             initializer=tf.random_uniform_initializer(-1., 1.))\n",
    "# context_bias = tf.get_variable('context_bias', [100], \n",
    "#                             initializer=tf.random_uniform_initializer(-1., 1.))\n",
    "\n",
    "focal_embedding = tf.nn.embedding_lookup(embedding_u, focal_input)\n",
    "context_embedding = tf.nn.embedding_lookup(embedding_v, context_input)\n",
    "\n",
    "weighting_factor = tf.minimum(1.0, tf.pow(tf.div(co_count, count_max), scaling_factor))\n",
    "embedding_product = tf.reduce_sum(focal_embedding * context_embedding, 1)\n",
    "log_co = tf.log1p(co_count)\n",
    "\n",
    "loss = weighting_factor * tf.squared_difference(embedding_product, log_co)\n",
    "loss = tf.reduce_sum(loss)\n",
    "\n",
    "optimizer = tf.train.AdamOptimizer(0.005).minimize(loss)"
   ]
  },
  {
   "cell_type": "code",
   "execution_count": 40,
   "metadata": {
    "collapsed": true
   },
   "outputs": [],
   "source": [
    "co_list = [(w[0], w[1], c) for (w, c) in co_matrix.items()]\n",
    "del co_matrix"
   ]
  },
  {
   "cell_type": "code",
   "execution_count": 51,
   "metadata": {},
   "outputs": [],
   "source": [
    "def data_generator(n_epochs=2, batch_size=512):\n",
    "    global co_list\n",
    "    n_steps = int(len(co_list) / batch_size) * n_epochs\n",
    "    \n",
    "    for _ in range(n_steps):\n",
    "        batch = co_list[:batch_size]\n",
    "        focal = [x[0] for x in batch]\n",
    "        context = [x[1] for x in batch]\n",
    "        count = [x[2] for x in batch]\n",
    "        yield (focal, context, count)\n",
    "        co_list = np.roll(co_list, batch_size)    "
   ]
  },
  {
   "cell_type": "code",
   "execution_count": 55,
   "metadata": {},
   "outputs": [
    {
     "name": "stdout",
     "output_type": "stream",
     "text": [
      "Loss at row 0 = 0.02977755106985569\n",
      "Loss at row 100 = 3969.29541015625\n",
      "Loss at row 200 = 42832.2265625\n",
      "Loss at row 300 = 0.03208819404244423\n",
      "Loss at row 400 = 3.4111504554748535\n",
      "Loss at row 500 = 20195.083984375\n",
      "Loss at row 600 = 0.032769154757261276\n",
      "Loss at row 700 = 6.979071617126465\n",
      "Loss at row 800 = 240.245361328125\n",
      "Loss at row 900 = 0.004659126978367567\n",
      "Loss at row 1000 = 6.628458023071289\n",
      "Loss at row 1100 = 5467.4873046875\n",
      "Loss at row 1200 = 0.1177603155374527\n",
      "Loss at row 1300 = 9.008085250854492\n",
      "Loss at row 1400 = 659.3637084960938\n",
      "Loss at row 1500 = 0.06342776119709015\n",
      "Loss at row 1600 = 14.818929672241211\n",
      "Loss at row 1700 = 1216.117431640625\n",
      "Loss at row 1800 = 0.07546643912792206\n",
      "Loss at row 1900 = 3.7527525424957275\n",
      "Loss at row 2000 = 25665.849609375\n",
      "Loss at row 2100 = 0.03690009191632271\n",
      "Loss at row 2200 = 8.261280059814453\n",
      "Loss at row 2300 = 660.91796875\n",
      "Loss at row 2400 = 0.07556961476802826\n",
      "Loss at row 2500 = 4.6227006912231445\n",
      "Loss at row 2600 = 12496.20703125\n",
      "Loss at row 2700 = 0.03506796807050705\n",
      "Loss at row 2800 = 17.41720962524414\n",
      "Loss at row 2900 = 2221.54736328125\n",
      "Loss at row 3000 = 0.027870386838912964\n",
      "Loss at row 3100 = 81.75042724609375\n",
      "Loss at row 3200 = 42695.890625\n",
      "Loss at row 3300 = 0.04165801405906677\n",
      "Loss at row 3400 = 3.1628775596618652\n",
      "Loss at row 3500 = 8964.107421875\n",
      "Loss at row 3600 = 0.036193083971738815\n",
      "Loss at row 3700 = 32.33467483520508\n",
      "Loss at row 3800 = 3828.335205078125\n",
      "Loss at row 3900 = 0.07807159423828125\n",
      "Loss at row 4000 = 7.238008975982666\n",
      "Loss at row 4100 = 11864.1708984375\n",
      "Loss at row 4200 = 0.07905313372612\n",
      "Loss at row 4300 = 95.81715393066406\n",
      "Loss at row 4400 = 1290.4921875\n",
      "Loss at row 4500 = 0.06848034262657166\n",
      "Loss at row 4600 = 9.975629806518555\n",
      "Loss at row 4700 = 1067.189697265625\n",
      "Loss at row 4800 = 0.08396035432815552\n",
      "Loss at row 4900 = 4.624991416931152\n",
      "Loss at row 5000 = 26888.2734375\n",
      "Loss at row 5100 = 0.03929765522480011\n",
      "Loss at row 5200 = 118.53783416748047\n",
      "Loss at row 5300 = 886.051025390625\n",
      "Loss at row 5400 = 0.07956806570291519\n",
      "Loss at row 5500 = 28.129039764404297\n",
      "Loss at row 5600 = 17093.447265625\n",
      "Loss at row 5700 = 0.04939327389001846\n",
      "Loss at row 5800 = 0.8048800826072693\n",
      "Loss at row 5900 = 1605.731201171875\n",
      "Loss at row 6000 = 0.09553076326847076\n",
      "Loss at row 6100 = 21.155155181884766\n",
      "Loss at row 6200 = 8833.857421875\n",
      "Loss at row 6300 = 0.050442248582839966\n",
      "Loss at row 6400 = 195.15847778320312\n",
      "Loss at row 6500 = 14110.056640625\n",
      "Loss at row 6600 = 0.01657950133085251\n",
      "Loss at row 6700 = 5.320572376251221\n",
      "Loss at row 6800 = 145.1607666015625\n",
      "Loss at row 6900 = 0.12295158952474594\n",
      "Loss at row 7000 = 3.843451499938965\n",
      "Loss at row 7100 = 9874.859375\n",
      "Loss at row 7200 = 0.07466836273670197\n",
      "Loss at row 7300 = 101.7215576171875\n",
      "Loss at row 7400 = 3319.86474609375\n",
      "Loss at row 7500 = 0.10960578918457031\n",
      "Loss at row 7600 = 1.7227544784545898\n",
      "Loss at row 7700 = 967.5823974609375\n",
      "Loss at row 7800 = 0.020467188209295273\n",
      "Loss at row 7900 = 4.732860088348389\n",
      "Loss at row 8000 = 24725.5546875\n",
      "Loss at row 8100 = 0.032655585557222366\n",
      "Loss at row 8200 = 107.08204650878906\n",
      "Loss at row 8300 = 4523.40234375\n",
      "Loss at row 8400 = 0.0412924662232399\n",
      "Loss at row 8500 = 1.2461349964141846\n",
      "Loss at row 8600 = 24.490699768066406\n",
      "Loss at row 8700 = 0.037924133241176605\n",
      "Loss at row 8800 = 10.372596740722656\n",
      "Loss at row 8900 = 232.36827087402344\n",
      "Loss at row 9000 = 0.07784802466630936\n",
      "Loss at row 9100 = 1.6176493167877197\n",
      "Loss at row 9200 = 1888.90087890625\n",
      "Loss at row 9300 = 0.020186258479952812\n",
      "Loss at row 9400 = 0.508339524269104\n",
      "Loss at row 9500 = 22139.96875\n",
      "Loss at row 9600 = 0.19971776008605957\n",
      "Loss at row 9700 = 85.34109497070312\n",
      "Loss at row 9800 = 614.6094970703125\n",
      "Loss at row 9900 = 0.03803475946187973\n",
      "Loss at row 10000 = 0.07308337092399597\n",
      "Loss at row 10100 = 14250.005859375\n",
      "Loss at row 10200 = 0.03644069284200668\n",
      "Loss at row 10300 = 6.699645042419434\n",
      "Loss at row 10400 = 178.75289916992188\n",
      "Loss at row 10500 = 0.11477681249380112\n",
      "Loss at row 10600 = 0.9655417799949646\n",
      "Loss at row 10700 = 1424.0244140625\n",
      "Loss at row 10800 = 0.056643031537532806\n",
      "Loss at row 10900 = 0.5586389303207397\n",
      "Loss at row 11000 = 10477.982421875\n",
      "Loss at row 11100 = 0.03031124919652939\n",
      "Loss at row 11200 = 82.29430389404297\n",
      "Loss at row 11300 = 1347.2672119140625\n",
      "Loss at row 11400 = 0.24164226651191711\n",
      "Loss at row 11500 = 0.15122652053833008\n",
      "Loss at row 11600 = 51.286170959472656\n",
      "Loss at row 11700 = 0.02842119336128235\n",
      "Loss at row 11800 = 77.00916290283203\n",
      "Loss at row 11900 = 2778.82275390625\n",
      "Loss at row 12000 = 0.04577883332967758\n",
      "Loss at row 12100 = 0.9121816754341125\n",
      "Loss at row 12200 = 8968.1015625\n",
      "Loss at row 12300 = 0.0595211386680603\n",
      "Loss at row 12400 = 0.13174541294574738\n",
      "Loss at row 12500 = 10628.978515625\n",
      "Loss at row 12600 = 0.042460113763809204\n",
      "Loss at row 12700 = 3.103731870651245\n",
      "Loss at row 12800 = 2355.739990234375\n",
      "Loss at row 12900 = 0.13185852766036987\n",
      "Loss at row 13000 = 0.28262776136398315\n",
      "Loss at row 13100 = 4041.973876953125\n",
      "Loss at row 13200 = 0.05325920879840851\n",
      "Loss at row 13300 = 115.4635238647461\n",
      "Loss at row 13400 = 4321.8955078125\n",
      "Loss at row 13500 = 0.036524347960948944\n",
      "Loss at row 13600 = 1.3827348947525024\n",
      "Loss at row 13700 = 208.806884765625\n",
      "Loss at row 13800 = 0.10978658497333527\n",
      "Loss at row 13900 = 54.144142150878906\n",
      "Loss at row 14000 = 25287.673828125\n",
      "Loss at row 14100 = 0.18749603629112244\n",
      "Loss at row 14200 = 0.8928158283233643\n",
      "Loss at row 14300 = 8563.7294921875\n",
      "Loss at row 14400 = 0.048683710396289825\n",
      "Loss at row 14500 = 0.9559643864631653\n",
      "Loss at row 14600 = 21522.791015625\n",
      "Loss at row 14700 = 0.0595472976565361\n",
      "Loss at row 14800 = 0.4590584635734558\n",
      "Loss at row 14900 = 439.0789794921875\n",
      "Loss at row 15000 = 0.06033623218536377\n",
      "Loss at row 15100 = 0.3449864983558655\n",
      "Loss at row 15200 = 277.983642578125\n",
      "Loss at row 15300 = 0.07897359132766724\n",
      "Loss at row 15400 = 3.4894332885742188\n",
      "Loss at row 15500 = 22517.97265625\n",
      "Loss at row 15600 = 0.0706811174750328\n"
     ]
    }
   ],
   "source": [
    "saver = tf.train.Saver()\n",
    "\n",
    "with tf.Session() as sess:\n",
    "    sess.run(tf.global_variables_initializer())\n",
    "    for i, (focal, context, count) in enumerate(data_generator(2)):\n",
    "        feed_dict = {focal_input:focal, context_input:context, co_count:count}\n",
    "        _, l = sess.run([optimizer, loss], feed_dict=feed_dict)\n",
    "        \n",
    "        if (i % 100 == 0):\n",
    "            print('Loss at row {} = {}'.format(i, l))\n",
    "            \n",
    "        if (i % 1000 == 0):\n",
    "            saver.save(sess, './model/Glove', i)"
   ]
  },
  {
   "cell_type": "code",
   "execution_count": 62,
   "metadata": {},
   "outputs": [
    {
     "name": "stdout",
     "output_type": "stream",
     "text": [
      "INFO:tensorflow:Restoring parameters from ./model/Glove-15000\n"
     ]
    }
   ],
   "source": [
    "ckpt = tf.train.get_checkpoint_state('./model')\n",
    "with tf.Session() as sess:\n",
    "    saver.restore(sess, ckpt.model_checkpoint_path)\n",
    "    e_u = embedding_u.eval()\n",
    "    e_v = embedding_v.eval()\n",
    "    \n",
    "embedding = e_u + e_v"
   ]
  },
  {
   "cell_type": "code",
   "execution_count": 65,
   "metadata": {
    "collapsed": true
   },
   "outputs": [],
   "source": [
    "# visualization\n",
    "\n",
    "from sklearn.manifold import TSNE\n",
    "\n",
    "embedding_2d = TSNE(2).fit_transform(embedding)"
   ]
  },
  {
   "cell_type": "code",
   "execution_count": 77,
   "metadata": {},
   "outputs": [
    {
     "data": {
      "image/png": "[encoded data removed]",
      "text/plain": [
       "<matplotlib.figure.Figure at 0x7fe7875e57b8>"
      ]
     },
     "metadata": {},
     "output_type": "display_data"
    }
   ],
   "source": [
    "import matplotlib.pyplot as plt\n",
    "%matplotlib inline\n",
    "\n",
    "\n",
    "_ = plt.figure(figsize=(16, 16))\n",
    "for i in range(150, 200):\n",
    "    word = reverse_vocab[i]\n",
    "    x, y = embedding_2d[i, :]\n",
    "    plt.scatter(x, y)\n",
    "    plt.annotate(word, xy=(x, y), size=15)"
   ]
  }
 ],
 "metadata": {
  "kernelspec": {
   "display_name": "Python 3",
   "language": "python",
   "name": "python3"
  },
  "language_info": {
   "codemirror_mode": {
    "name": "ipython",
    "version": 3
   },
   "file_extension": ".py",
   "mimetype": "text/x-python",
   "name": "python",
   "nbconvert_exporter": "python",
   "pygments_lexer": "ipython3",
   "version": "3.6.2"
  }
 },
 "nbformat": 4,
 "nbformat_minor": 2
}
